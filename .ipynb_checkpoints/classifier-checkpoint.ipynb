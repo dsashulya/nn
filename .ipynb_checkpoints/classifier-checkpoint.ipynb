{
 "cells": [
  {
   "cell_type": "code",
   "execution_count": 1,
   "id": "thermal-offer",
   "metadata": {},
   "outputs": [],
   "source": [
    "import numpy as np\n",
    "from sklearn.datasets import load_digits, make_moons\n",
    "from sklearn.model_selection import train_test_split\n",
    "import matplotlib.pyplot as plt \n",
    "from modules import Linear, ReLU, Softmax, CrossEntropyLoss, Classifier"
   ]
  },
  {
   "cell_type": "markdown",
   "id": "ranging-selection",
   "metadata": {},
   "source": [
    "# Проверка производных"
   ]
  },
  {
   "cell_type": "code",
   "execution_count": 56,
   "id": "environmental-conservative",
   "metadata": {},
   "outputs": [],
   "source": [
    "def diff_checker(X: np.ndarray, y: np.ndarray):\n",
    "    fc = Linear(2, 2)\n",
    "    output = fc.forward(X)\n",
    "    output = Softmax()(output)\n",
    "    d = output - y\n",
    "    fc.backward(d)\n",
    "    dW_dual = fc.derivative_W.copy()\n",
    "    db_dual = fc.derivative_b.copy()\n",
    "\n",
    "    db_analytical = d.sum(axis=0)\n",
    "    dW_analytical = X.T @ d\n",
    "\n",
    "    np.testing.assert_allclose(dW_dual, dW_analytical)\n",
    "    np.testing.assert_allclose(db_dual, db_analytical)"
   ]
  },
  {
   "cell_type": "code",
   "execution_count": 57,
   "id": "alpine-electronics",
   "metadata": {},
   "outputs": [],
   "source": [
    "X, y = make_moons(400, noise=0.075)\n",
    "X_test, y_test = make_moons(400, noise=0.075)\n",
    "\n",
    "diff_checker(X[:32, :], y[:32, None])"
   ]
  },
  {
   "cell_type": "markdown",
   "id": "outer-saver",
   "metadata": {},
   "source": [
    "# Запуск на данных"
   ]
  },
  {
   "cell_type": "code",
   "execution_count": 69,
   "id": "polished-smell",
   "metadata": {},
   "outputs": [],
   "source": [
    "X, y = load_digits(return_X_y=True)"
   ]
  },
  {
   "cell_type": "code",
   "execution_count": 70,
   "id": "exact-sweden",
   "metadata": {},
   "outputs": [],
   "source": [
    "mask = np.logical_or(y == 0, y == 1)\n",
    "y = y[mask]\n",
    "X = X[mask]\n",
    "X /= np.max(X)"
   ]
  },
  {
   "cell_type": "code",
   "execution_count": 71,
   "id": "brief-placement",
   "metadata": {},
   "outputs": [],
   "source": [
    "X_train, X_test, y_train, y_test = train_test_split(X, y, test_size=0.2, random_state=0)"
   ]
  },
  {
   "cell_type": "code",
   "execution_count": 63,
   "id": "random-citizen",
   "metadata": {},
   "outputs": [],
   "source": [
    "model = Classifier([Linear(64, 64),\n",
    "    ReLU(),\n",
    "    Linear(64, 32),\n",
    "    ReLU(),\n",
    "    Linear(32, 64),\n",
    "    ReLU(),\n",
    "    Linear(64, 2)], epochs=20, alpha=0.001)"
   ]
  },
  {
   "cell_type": "code",
   "execution_count": 64,
   "id": "increased-label",
   "metadata": {},
   "outputs": [
    {
     "name": "stdout",
     "output_type": "stream",
     "text": [
      "Starting first epoch...\n",
      "Epoch 1 finished with avg train loss of 226.06920138767535\n",
      "Epoch 2 finished with avg train loss of 22.48301117156088\n",
      "Epoch 3 finished with avg train loss of 22.405028245188802\n",
      "Epoch 4 finished with avg train loss of 22.34612272400516\n",
      "Epoch 5 finished with avg train loss of 22.30167885158882\n",
      "Epoch 6 finished with avg train loss of 22.2681729441005\n",
      "Epoch 7 finished with avg train loss of 22.242925806565207\n",
      "Epoch 8 finished with avg train loss of 22.22390661429926\n",
      "Epoch 9 finished with avg train loss of 22.20957963060682\n",
      "Epoch 10 finished with avg train loss of 22.19878559081679\n",
      "Epoch 11 finished with avg train loss of 22.190650594688755\n",
      "Epoch 12 finished with avg train loss of 22.184516520808124\n",
      "Epoch 13 finished with avg train loss of 22.179888105865956\n",
      "Epoch 14 finished with avg train loss of 22.176392828990654\n",
      "Epoch 15 finished with avg train loss of 22.173750578639066\n",
      "Epoch 16 finished with avg train loss of 22.171750760386608\n",
      "Epoch 17 finished with avg train loss of 22.170235045665667\n",
      "Epoch 18 finished with avg train loss of 22.169084386017165\n",
      "Epoch 19 finished with avg train loss of 22.168209246476714\n",
      "Epoch 20 finished with avg train loss of 22.16754226473947\n"
     ]
    }
   ],
   "source": [
    "model.fit(X_train, y_train)"
   ]
  },
  {
   "cell_type": "code",
   "execution_count": 72,
   "id": "knowing-acting",
   "metadata": {},
   "outputs": [
    {
     "name": "stdout",
     "output_type": "stream",
     "text": [
      "Accuracy: 0.4444444444444444\n"
     ]
    }
   ],
   "source": [
    "print(f\"Accuracy: {np.mean(model.predict(X_test) == y_test)}\")"
   ]
  },
  {
   "cell_type": "code",
   "execution_count": 39,
   "id": "stretch-sleeping",
   "metadata": {},
   "outputs": [
    {
     "name": "stdout",
     "output_type": "stream",
     "text": [
      "Starting first epoch...\n",
      "Epoch 1 finished with avg train loss of 359.78796007324553\n",
      "Epoch 2 finished with avg train loss of 40.74957124664716\n",
      "Epoch 3 finished with avg train loss of 10.919146492801339\n",
      "Epoch 4 finished with avg train loss of 10.31466320190151\n",
      "Epoch 5 finished with avg train loss of 9.901802941095706\n",
      "Epoch 6 finished with avg train loss of 9.535355623659088\n",
      "Epoch 7 finished with avg train loss of 9.209518723887106\n",
      "Epoch 8 finished with avg train loss of 8.911748253884133\n",
      "Epoch 9 finished with avg train loss of 8.60971127696793\n",
      "Epoch 10 finished with avg train loss of 8.306701364069001\n",
      "Epoch 11 finished with avg train loss of 7.999197350677085\n",
      "Epoch 12 finished with avg train loss of 7.671985895305167\n",
      "Epoch 13 finished with avg train loss of 7.367976656576236\n",
      "Epoch 14 finished with avg train loss of 7.09481461610556\n",
      "Epoch 15 finished with avg train loss of 6.8161500548092855\n",
      "Epoch 16 finished with avg train loss of 6.557431186874086\n",
      "Epoch 17 finished with avg train loss of 6.3055647644633765\n",
      "Epoch 18 finished with avg train loss of 6.060375241270048\n",
      "Epoch 19 finished with avg train loss of 5.8251479912246245\n",
      "Epoch 20 finished with avg train loss of 5.606619317817663\n",
      "Accuracy 0.9475\n"
     ]
    }
   ],
   "source": [
    "X, y = make_moons(400, noise=0.075)\n",
    "X_test, y_test = make_moons(400, noise=0.075)\n",
    "\n",
    "p = Classifier([Linear(2, 64),\n",
    "    ReLU(),\n",
    "    Linear(64, 64),\n",
    "    ReLU(),\n",
    "    Linear(64, 2)])\n",
    "\n",
    "p.fit(X, y)\n",
    "best_acc = \n",
    "print(f\"Accuracy: {np.mean(p.predict(X_test) == y_test)}\")"
   ]
  },
  {
   "cell_type": "code",
   "execution_count": null,
   "id": "guilty-congress",
   "metadata": {},
   "outputs": [],
   "source": []
  }
 ],
 "metadata": {
  "kernelspec": {
   "display_name": "Python 3",
   "language": "python",
   "name": "python3"
  },
  "language_info": {
   "codemirror_mode": {
    "name": "ipython",
    "version": 3
   },
   "file_extension": ".py",
   "mimetype": "text/x-python",
   "name": "python",
   "nbconvert_exporter": "python",
   "pygments_lexer": "ipython3",
   "version": "3.8.5"
  }
 },
 "nbformat": 4,
 "nbformat_minor": 5
}
